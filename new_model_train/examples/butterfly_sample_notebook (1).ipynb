{
 "cells": [
  {
   "cell_type": "code",
   "execution_count": 1,
   "metadata": {},
   "outputs": [],
   "source": [
    "import pandas as pd\n",
    "import seaborn as sns\n",
    "\n",
    "sns.set_style(\"whitegrid\")"
   ]
  },
  {
   "cell_type": "markdown",
   "metadata": {},
   "source": [
    "## Load in the dataset CSV"
   ]
  },
  {
   "cell_type": "code",
   "execution_count": 4,
   "metadata": {},
   "outputs": [
    {
     "data": {
      "text/html": [
       "<div>\n",
       "<style scoped>\n",
       "    .dataframe tbody tr th:only-of-type {\n",
       "        vertical-align: middle;\n",
       "    }\n",
       "\n",
       "    .dataframe tbody tr th {\n",
       "        vertical-align: top;\n",
       "    }\n",
       "\n",
       "    .dataframe thead th {\n",
       "        text-align: right;\n",
       "    }\n",
       "</style>\n",
       "<table border=\"1\" class=\"dataframe\">\n",
       "  <thead>\n",
       "    <tr style=\"text-align: right;\">\n",
       "      <th></th>\n",
       "      <th>CAMID</th>\n",
       "      <th>file_url</th>\n",
       "      <th>hybrid_stat</th>\n",
       "      <th>split</th>\n",
       "      <th>zenodo_link</th>\n",
       "      <th>md5</th>\n",
       "      <th>subspecies</th>\n",
       "      <th>parent_subspecies_1</th>\n",
       "      <th>parent_subspecies_2</th>\n",
       "      <th>filename</th>\n",
       "    </tr>\n",
       "  </thead>\n",
       "  <tbody>\n",
       "    <tr>\n",
       "      <th>0</th>\n",
       "      <td>CAM017821</td>\n",
       "      <td>https://zenodo.org/record/1748277/files/CAM017...</td>\n",
       "      <td>hybrid</td>\n",
       "      <td>train</td>\n",
       "      <td>https://zenodo.org/record/1748277</td>\n",
       "      <td>ba38c61337e2d720f5f72451387d4a48</td>\n",
       "      <td>NaN</td>\n",
       "      <td>8.0</td>\n",
       "      <td>9.0</td>\n",
       "      <td>CAM017821.jpg</td>\n",
       "    </tr>\n",
       "    <tr>\n",
       "      <th>1</th>\n",
       "      <td>CAM017820</td>\n",
       "      <td>https://zenodo.org/record/1748277/files/CAM017...</td>\n",
       "      <td>hybrid</td>\n",
       "      <td>train</td>\n",
       "      <td>https://zenodo.org/record/1748277</td>\n",
       "      <td>9a2ff257a0ad17055eae3cc6c279a62b</td>\n",
       "      <td>NaN</td>\n",
       "      <td>8.0</td>\n",
       "      <td>9.0</td>\n",
       "      <td>CAM017820.jpg</td>\n",
       "    </tr>\n",
       "    <tr>\n",
       "      <th>2</th>\n",
       "      <td>CAM017693</td>\n",
       "      <td>https://zenodo.org/record/1748277/files/CAM017...</td>\n",
       "      <td>hybrid</td>\n",
       "      <td>train</td>\n",
       "      <td>https://zenodo.org/record/1748277</td>\n",
       "      <td>c314eec15bb53750bdd68595d95a5e93</td>\n",
       "      <td>NaN</td>\n",
       "      <td>8.0</td>\n",
       "      <td>9.0</td>\n",
       "      <td>CAM017693.jpg</td>\n",
       "    </tr>\n",
       "    <tr>\n",
       "      <th>3</th>\n",
       "      <td>CAM018291</td>\n",
       "      <td>https://zenodo.org/record/2548678/files/CAM018...</td>\n",
       "      <td>non-hybrid</td>\n",
       "      <td>train</td>\n",
       "      <td>https://zenodo.org/record/2548678</td>\n",
       "      <td>e3a7bf83bdb9f11c035873a623a31345</td>\n",
       "      <td>8.0</td>\n",
       "      <td>NaN</td>\n",
       "      <td>NaN</td>\n",
       "      <td>CAM018291.jpg</td>\n",
       "    </tr>\n",
       "    <tr>\n",
       "      <th>4</th>\n",
       "      <td>CAM011430</td>\n",
       "      <td>https://zenodo.org/record/2550097/files/CAM011...</td>\n",
       "      <td>non-hybrid</td>\n",
       "      <td>train</td>\n",
       "      <td>https://zenodo.org/record/2550097</td>\n",
       "      <td>5060c653aea379c72802aa3ef8af32b0</td>\n",
       "      <td>9.0</td>\n",
       "      <td>NaN</td>\n",
       "      <td>NaN</td>\n",
       "      <td>CAM011430.jpg</td>\n",
       "    </tr>\n",
       "    <tr>\n",
       "      <th>...</th>\n",
       "      <td>...</td>\n",
       "      <td>...</td>\n",
       "      <td>...</td>\n",
       "      <td>...</td>\n",
       "      <td>...</td>\n",
       "      <td>...</td>\n",
       "      <td>...</td>\n",
       "      <td>...</td>\n",
       "      <td>...</td>\n",
       "      <td>...</td>\n",
       "    </tr>\n",
       "    <tr>\n",
       "      <th>2077</th>\n",
       "      <td>CAM036201</td>\n",
       "      <td>https://zenodo.org/record/5561246/files/CAM036...</td>\n",
       "      <td>non-hybrid</td>\n",
       "      <td>train</td>\n",
       "      <td>https://zenodo.org/record/5561246</td>\n",
       "      <td>3e3c5d0f40fe04388e021b96d07bcdf6</td>\n",
       "      <td>11.0</td>\n",
       "      <td>NaN</td>\n",
       "      <td>NaN</td>\n",
       "      <td>CAM036201.jpg</td>\n",
       "    </tr>\n",
       "    <tr>\n",
       "      <th>2078</th>\n",
       "      <td>CAM036199</td>\n",
       "      <td>https://zenodo.org/record/5561246/files/CAM036...</td>\n",
       "      <td>non-hybrid</td>\n",
       "      <td>train</td>\n",
       "      <td>https://zenodo.org/record/5561246</td>\n",
       "      <td>4b6d73bd76cea08370537d4ccd4dc9ef</td>\n",
       "      <td>11.0</td>\n",
       "      <td>NaN</td>\n",
       "      <td>NaN</td>\n",
       "      <td>CAM036199.jpg</td>\n",
       "    </tr>\n",
       "    <tr>\n",
       "      <th>2079</th>\n",
       "      <td>CAM036198</td>\n",
       "      <td>https://zenodo.org/record/5561246/files/CAM036...</td>\n",
       "      <td>non-hybrid</td>\n",
       "      <td>train</td>\n",
       "      <td>https://zenodo.org/record/5561246</td>\n",
       "      <td>d3153f3fac8b98df506895efaf84b23d</td>\n",
       "      <td>11.0</td>\n",
       "      <td>NaN</td>\n",
       "      <td>NaN</td>\n",
       "      <td>CAM036198.jpg</td>\n",
       "    </tr>\n",
       "    <tr>\n",
       "      <th>2080</th>\n",
       "      <td>CAM036197</td>\n",
       "      <td>https://zenodo.org/record/5561246/files/CAM036...</td>\n",
       "      <td>non-hybrid</td>\n",
       "      <td>train</td>\n",
       "      <td>https://zenodo.org/record/5561246</td>\n",
       "      <td>d2cd1c4d54e84daae69c048a538a7609</td>\n",
       "      <td>11.0</td>\n",
       "      <td>NaN</td>\n",
       "      <td>NaN</td>\n",
       "      <td>CAM036197.jpg</td>\n",
       "    </tr>\n",
       "    <tr>\n",
       "      <th>2081</th>\n",
       "      <td>CAM036213</td>\n",
       "      <td>https://zenodo.org/record/5561246/files/CAM036...</td>\n",
       "      <td>non-hybrid</td>\n",
       "      <td>train</td>\n",
       "      <td>https://zenodo.org/record/5561246</td>\n",
       "      <td>fdf557fc5097a4477f3407130352aac2</td>\n",
       "      <td>11.0</td>\n",
       "      <td>NaN</td>\n",
       "      <td>NaN</td>\n",
       "      <td>CAM036213.jpg</td>\n",
       "    </tr>\n",
       "  </tbody>\n",
       "</table>\n",
       "<p>2082 rows × 10 columns</p>\n",
       "</div>"
      ],
      "text/plain": [
       "          CAMID                                           file_url  \\\n",
       "0     CAM017821  https://zenodo.org/record/1748277/files/CAM017...   \n",
       "1     CAM017820  https://zenodo.org/record/1748277/files/CAM017...   \n",
       "2     CAM017693  https://zenodo.org/record/1748277/files/CAM017...   \n",
       "3     CAM018291  https://zenodo.org/record/2548678/files/CAM018...   \n",
       "4     CAM011430  https://zenodo.org/record/2550097/files/CAM011...   \n",
       "...         ...                                                ...   \n",
       "2077  CAM036201  https://zenodo.org/record/5561246/files/CAM036...   \n",
       "2078  CAM036199  https://zenodo.org/record/5561246/files/CAM036...   \n",
       "2079  CAM036198  https://zenodo.org/record/5561246/files/CAM036...   \n",
       "2080  CAM036197  https://zenodo.org/record/5561246/files/CAM036...   \n",
       "2081  CAM036213  https://zenodo.org/record/5561246/files/CAM036...   \n",
       "\n",
       "     hybrid_stat  split                        zenodo_link  \\\n",
       "0         hybrid  train  https://zenodo.org/record/1748277   \n",
       "1         hybrid  train  https://zenodo.org/record/1748277   \n",
       "2         hybrid  train  https://zenodo.org/record/1748277   \n",
       "3     non-hybrid  train  https://zenodo.org/record/2548678   \n",
       "4     non-hybrid  train  https://zenodo.org/record/2550097   \n",
       "...          ...    ...                                ...   \n",
       "2077  non-hybrid  train  https://zenodo.org/record/5561246   \n",
       "2078  non-hybrid  train  https://zenodo.org/record/5561246   \n",
       "2079  non-hybrid  train  https://zenodo.org/record/5561246   \n",
       "2080  non-hybrid  train  https://zenodo.org/record/5561246   \n",
       "2081  non-hybrid  train  https://zenodo.org/record/5561246   \n",
       "\n",
       "                                   md5  subspecies  parent_subspecies_1  \\\n",
       "0     ba38c61337e2d720f5f72451387d4a48         NaN                  8.0   \n",
       "1     9a2ff257a0ad17055eae3cc6c279a62b         NaN                  8.0   \n",
       "2     c314eec15bb53750bdd68595d95a5e93         NaN                  8.0   \n",
       "3     e3a7bf83bdb9f11c035873a623a31345         8.0                  NaN   \n",
       "4     5060c653aea379c72802aa3ef8af32b0         9.0                  NaN   \n",
       "...                                ...         ...                  ...   \n",
       "2077  3e3c5d0f40fe04388e021b96d07bcdf6        11.0                  NaN   \n",
       "2078  4b6d73bd76cea08370537d4ccd4dc9ef        11.0                  NaN   \n",
       "2079  d3153f3fac8b98df506895efaf84b23d        11.0                  NaN   \n",
       "2080  d2cd1c4d54e84daae69c048a538a7609        11.0                  NaN   \n",
       "2081  fdf557fc5097a4477f3407130352aac2        11.0                  NaN   \n",
       "\n",
       "      parent_subspecies_2       filename  \n",
       "0                     9.0  CAM017821.jpg  \n",
       "1                     9.0  CAM017820.jpg  \n",
       "2                     9.0  CAM017693.jpg  \n",
       "3                     NaN  CAM018291.jpg  \n",
       "4                     NaN  CAM011430.jpg  \n",
       "...                   ...            ...  \n",
       "2077                  NaN  CAM036201.jpg  \n",
       "2078                  NaN  CAM036199.jpg  \n",
       "2079                  NaN  CAM036198.jpg  \n",
       "2080                  NaN  CAM036197.jpg  \n",
       "2081                  NaN  CAM036213.jpg  \n",
       "\n",
       "[2082 rows x 10 columns]"
      ]
     },
     "execution_count": 4,
     "metadata": {},
     "output_type": "execute_result"
    }
   ],
   "source": [
    "df = pd.read_csv(\"https://raw.githubusercontent.com/Imageomics/HDR-anomaly-challenge/refs/heads/main/files/butterfly_anomaly_train.csv\")\n",
    "df.head()\n",
    "df"
   ]
  },
  {
   "cell_type": "markdown",
   "metadata": {},
   "source": [
    "## Make one column with classification\n",
    "\n",
    "This is the subspecies (which may is a mix of two for some specimens, the hybrids); this is for coloring the distribution plot by hybrid status and showing all together."
   ]
  },
  {
   "cell_type": "code",
   "execution_count": 6,
   "metadata": {},
   "outputs": [],
   "source": [
    "for camid in list(df.loc[df[\"subspecies\"].isna(), \"CAMID\"]):\n",
    "    temp = df.loc[df[\"CAMID\"] == camid]\n",
    "    subspecies = temp[\"parent_subspecies_1\"].astype(str) + \" and \" + temp[\"parent_subspecies_2\"].astype(str)\n",
    "    df.loc[df[\"CAMID\"] == camid, \"classification\"] = subspecies\n",
    "for camid in list(df.loc[df[\"subspecies\"].notna(), \"CAMID\"]):\n",
    "    temp = df.loc[df[\"CAMID\"] == camid]\n",
    "    subspecies = temp[\"subspecies\"].astype(str)\n",
    "    df.loc[df[\"CAMID\"] == camid, \"classification\"] = subspecies"
   ]
  },
  {
   "cell_type": "code",
   "execution_count": 7,
   "metadata": {},
   "outputs": [
    {
     "data": {
      "text/html": [
       "<div>\n",
       "<style scoped>\n",
       "    .dataframe tbody tr th:only-of-type {\n",
       "        vertical-align: middle;\n",
       "    }\n",
       "\n",
       "    .dataframe tbody tr th {\n",
       "        vertical-align: top;\n",
       "    }\n",
       "\n",
       "    .dataframe thead th {\n",
       "        text-align: right;\n",
       "    }\n",
       "</style>\n",
       "<table border=\"1\" class=\"dataframe\">\n",
       "  <thead>\n",
       "    <tr style=\"text-align: right;\">\n",
       "      <th></th>\n",
       "      <th>CAMID</th>\n",
       "      <th>file_url</th>\n",
       "      <th>hybrid_stat</th>\n",
       "      <th>split</th>\n",
       "      <th>zenodo_link</th>\n",
       "      <th>md5</th>\n",
       "      <th>subspecies</th>\n",
       "      <th>parent_subspecies_1</th>\n",
       "      <th>parent_subspecies_2</th>\n",
       "      <th>filename</th>\n",
       "      <th>classification</th>\n",
       "    </tr>\n",
       "  </thead>\n",
       "  <tbody>\n",
       "    <tr>\n",
       "      <th>0</th>\n",
       "      <td>CAM017821</td>\n",
       "      <td>https://zenodo.org/record/1748277/files/CAM017...</td>\n",
       "      <td>hybrid</td>\n",
       "      <td>train</td>\n",
       "      <td>https://zenodo.org/record/1748277</td>\n",
       "      <td>ba38c61337e2d720f5f72451387d4a48</td>\n",
       "      <td>NaN</td>\n",
       "      <td>8.0</td>\n",
       "      <td>9.0</td>\n",
       "      <td>CAM017821.jpg</td>\n",
       "      <td>8.0 and 9.0</td>\n",
       "    </tr>\n",
       "    <tr>\n",
       "      <th>1</th>\n",
       "      <td>CAM017820</td>\n",
       "      <td>https://zenodo.org/record/1748277/files/CAM017...</td>\n",
       "      <td>hybrid</td>\n",
       "      <td>train</td>\n",
       "      <td>https://zenodo.org/record/1748277</td>\n",
       "      <td>9a2ff257a0ad17055eae3cc6c279a62b</td>\n",
       "      <td>NaN</td>\n",
       "      <td>8.0</td>\n",
       "      <td>9.0</td>\n",
       "      <td>CAM017820.jpg</td>\n",
       "      <td>8.0 and 9.0</td>\n",
       "    </tr>\n",
       "    <tr>\n",
       "      <th>2</th>\n",
       "      <td>CAM017693</td>\n",
       "      <td>https://zenodo.org/record/1748277/files/CAM017...</td>\n",
       "      <td>hybrid</td>\n",
       "      <td>train</td>\n",
       "      <td>https://zenodo.org/record/1748277</td>\n",
       "      <td>c314eec15bb53750bdd68595d95a5e93</td>\n",
       "      <td>NaN</td>\n",
       "      <td>8.0</td>\n",
       "      <td>9.0</td>\n",
       "      <td>CAM017693.jpg</td>\n",
       "      <td>8.0 and 9.0</td>\n",
       "    </tr>\n",
       "    <tr>\n",
       "      <th>3</th>\n",
       "      <td>CAM018291</td>\n",
       "      <td>https://zenodo.org/record/2548678/files/CAM018...</td>\n",
       "      <td>non-hybrid</td>\n",
       "      <td>train</td>\n",
       "      <td>https://zenodo.org/record/2548678</td>\n",
       "      <td>e3a7bf83bdb9f11c035873a623a31345</td>\n",
       "      <td>8.0</td>\n",
       "      <td>NaN</td>\n",
       "      <td>NaN</td>\n",
       "      <td>CAM018291.jpg</td>\n",
       "      <td>8.0</td>\n",
       "    </tr>\n",
       "    <tr>\n",
       "      <th>4</th>\n",
       "      <td>CAM011430</td>\n",
       "      <td>https://zenodo.org/record/2550097/files/CAM011...</td>\n",
       "      <td>non-hybrid</td>\n",
       "      <td>train</td>\n",
       "      <td>https://zenodo.org/record/2550097</td>\n",
       "      <td>5060c653aea379c72802aa3ef8af32b0</td>\n",
       "      <td>9.0</td>\n",
       "      <td>NaN</td>\n",
       "      <td>NaN</td>\n",
       "      <td>CAM011430.jpg</td>\n",
       "      <td>9.0</td>\n",
       "    </tr>\n",
       "  </tbody>\n",
       "</table>\n",
       "</div>"
      ],
      "text/plain": [
       "       CAMID                                           file_url hybrid_stat  \\\n",
       "0  CAM017821  https://zenodo.org/record/1748277/files/CAM017...      hybrid   \n",
       "1  CAM017820  https://zenodo.org/record/1748277/files/CAM017...      hybrid   \n",
       "2  CAM017693  https://zenodo.org/record/1748277/files/CAM017...      hybrid   \n",
       "3  CAM018291  https://zenodo.org/record/2548678/files/CAM018...  non-hybrid   \n",
       "4  CAM011430  https://zenodo.org/record/2550097/files/CAM011...  non-hybrid   \n",
       "\n",
       "   split                        zenodo_link                               md5  \\\n",
       "0  train  https://zenodo.org/record/1748277  ba38c61337e2d720f5f72451387d4a48   \n",
       "1  train  https://zenodo.org/record/1748277  9a2ff257a0ad17055eae3cc6c279a62b   \n",
       "2  train  https://zenodo.org/record/1748277  c314eec15bb53750bdd68595d95a5e93   \n",
       "3  train  https://zenodo.org/record/2548678  e3a7bf83bdb9f11c035873a623a31345   \n",
       "4  train  https://zenodo.org/record/2550097  5060c653aea379c72802aa3ef8af32b0   \n",
       "\n",
       "   subspecies  parent_subspecies_1  parent_subspecies_2       filename  \\\n",
       "0         NaN                  8.0                  9.0  CAM017821.jpg   \n",
       "1         NaN                  8.0                  9.0  CAM017820.jpg   \n",
       "2         NaN                  8.0                  9.0  CAM017693.jpg   \n",
       "3         8.0                  NaN                  NaN  CAM018291.jpg   \n",
       "4         9.0                  NaN                  NaN  CAM011430.jpg   \n",
       "\n",
       "  classification  \n",
       "0    8.0 and 9.0  \n",
       "1    8.0 and 9.0  \n",
       "2    8.0 and 9.0  \n",
       "3            8.0  \n",
       "4            9.0  "
      ]
     },
     "execution_count": 7,
     "metadata": {},
     "output_type": "execute_result"
    }
   ],
   "source": [
    "df.head()"
   ]
  },
  {
   "cell_type": "markdown",
   "metadata": {},
   "source": [
    "## Get distribution of images by subspecies (colored by hybrid status)"
   ]
  },
  {
   "cell_type": "code",
   "execution_count": 8,
   "metadata": {},
   "outputs": [
    {
     "data": {
      "text/plain": [
       "<Axes: xlabel='Count', ylabel='classification'>"
      ]
     },
     "execution_count": 8,
     "metadata": {},
     "output_type": "execute_result"
    },
    {
     "data": {
      "image/png": "[encoded data removed]",
      "text/plain": [
       "<Figure size 640x480 with 1 Axes>"
      ]
     },
     "metadata": {},
     "output_type": "display_data"
    }
   ],
   "source": [
    "sns.histplot(df, y = \"classification\", hue = \"hybrid_stat\")"
   ]
  },
  {
   "cell_type": "markdown",
   "metadata": {},
   "source": [
    "## Create sample subset of data for example"
   ]
  },
  {
   "cell_type": "code",
   "execution_count": 9,
   "metadata": {},
   "outputs": [],
   "source": [
    "from sklearn.model_selection import train_test_split"
   ]
  },
  {
   "cell_type": "code",
   "execution_count": 10,
   "metadata": {},
   "outputs": [
    {
     "name": "stdout",
     "output_type": "stream",
     "text": [
      "<class 'pandas.core.frame.DataFrame'>\n",
      "Index: 313 entries, 1722 to 1780\n",
      "Data columns (total 11 columns):\n",
      " #   Column               Non-Null Count  Dtype  \n",
      "---  ------               --------------  -----  \n",
      " 0   CAMID                313 non-null    object \n",
      " 1   file_url             313 non-null    object \n",
      " 2   hybrid_stat          313 non-null    object \n",
      " 3   split                313 non-null    object \n",
      " 4   zenodo_link          313 non-null    object \n",
      " 5   md5                  313 non-null    object \n",
      " 6   subspecies           299 non-null    float64\n",
      " 7   parent_subspecies_1  14 non-null     float64\n",
      " 8   parent_subspecies_2  14 non-null     float64\n",
      " 9   filename             313 non-null    object \n",
      " 10  classification       313 non-null    object \n",
      "dtypes: float64(3), object(8)\n",
      "memory usage: 29.3+ KB\n"
     ]
    }
   ],
   "source": [
    "# Get stratified 15% of the training images for sample run (should take about 12 minutes to download),\n",
    "# update \"test_size\" to select more or less sample images.\n",
    "df_set, df_sample = train_test_split(df, test_size = .15, stratify = df[\"classification\"], random_state = 614)\n",
    "\n",
    "df_sample.info()"
   ]
  },
  {
   "cell_type": "markdown",
   "metadata": {},
   "source": [
    "## Download Data"
   ]
  },
  {
   "cell_type": "code",
   "execution_count": 14,
   "metadata": {},
   "outputs": [],
   "source": [
    "from cautiousrobot.__main__ import download_images\n",
    "from cautiousrobot.buddy_check import BuddyCheck\n",
    "from sumbuddy import get_checksums"
   ]
  },
  {
   "cell_type": "markdown",
   "metadata": {},
   "source": [
    "Download images and validate the download. Note that these will work in one step run in the command line with the following code:\n",
    "```\n",
    "cautious-robot -i <path/to/butterfly_anomaly_train.csv> -o <path/to/images> -s hybrid_stat -l 256 -v md5\n",
    "```\n",
    "where `<path/to/images>` is `sample_images`."
   ]
  },
  {
   "cell_type": "code",
   "execution_count": 15,
   "metadata": {},
   "outputs": [],
   "source": [
    "# set paths\n",
    "IMG_DIR = \"sample_images\"\n",
    "CHECKSUM_PATH = \"sample_images_checksums\""
   ]
  },
  {
   "cell_type": "code",
   "execution_count": 17,
   "metadata": {},
   "outputs": [
    {
     "name": "stderr",
     "output_type": "stream",
     "text": [
      "100%|██████████| 313/313 [19:29<00:00,  3.74s/it]\n"
     ]
    }
   ],
   "source": [
    "download_images(df_sample,\n",
    "                img_dir = IMG_DIR,\n",
    "                log_filepath = \"sample_img_logs\",\n",
    "                error_log_filepath = \"sample_img_error_logs\",\n",
    "                # subfolders = \"hybrid_stat\",\n",
    "                downsample_path = \"sample_images_downsized\",\n",
    "                downsample = 256\n",
    ")"
   ]
  },
  {
   "cell_type": "code",
   "execution_count": 20,
   "metadata": {},
   "outputs": [
    {
     "name": "stderr",
     "output_type": "stream",
     "text": [
      "Calculating md5 checksums on sample_images:   0%|          | 0/313 [00:00<?, ?it/s]"
     ]
    },
    {
     "name": "stderr",
     "output_type": "stream",
     "text": [
      "Calculating md5 checksums on sample_images: 100%|██████████| 313/313 [00:03<00:00, 80.35it/s]"
     ]
    },
    {
     "name": "stdout",
     "output_type": "stream",
     "text": [
      "md5 checksums for sample_images written to sample_images_checksums\n",
      "313 images were downloaded to sample_images of the 313 expected.\n"
     ]
    },
    {
     "name": "stderr",
     "output_type": "stream",
     "text": [
      "\n"
     ]
    }
   ],
   "source": [
    "# Get checksums of downloaded images\n",
    "get_checksums(input_path = IMG_DIR,\n",
    "              output_filepath = CHECKSUM_PATH\n",
    "              )\n",
    "        \n",
    "# verify numbers\n",
    "checksum_df = pd.read_csv(CHECKSUM_PATH, low_memory = False)\n",
    "expected_num_imgs = df_sample.shape[0]\n",
    "print(f\"{checksum_df.shape[0]} images were downloaded to {IMG_DIR} of the {expected_num_imgs} expected.\")"
   ]
  },
  {
   "cell_type": "code",
   "execution_count": 21,
   "metadata": {},
   "outputs": [
    {
     "name": "stdout",
     "output_type": "stream",
     "text": [
      "merging on checksums and IDs\n",
      "Buddy check successful. All 313 expected images accounted for.\n"
     ]
    }
   ],
   "source": [
    "# Check for all expected image match\n",
    "buddy_check = BuddyCheck(buddy_id = \"filename\", buddy_col = \"md5\")\n",
    "missing_imgs = buddy_check.validate_download(source_df = df_sample,\n",
    "                                        checksum_df = checksum_df,\n",
    "                                        source_validation_col = \"md5\")\n",
    "if missing_imgs is not None:\n",
    "    missing_imgs.to_csv(\"samples_missing.csv\", index = False)\n",
    "    print(f\"See samples_missing.csv for missing image info and check logs.\")\n",
    "else:\n",
    "    print(f\"Buddy check successful. All {expected_num_imgs} expected images accounted for.\")"
   ]
  },
  {
   "cell_type": "code",
   "execution_count": null,
   "metadata": {},
   "outputs": [],
   "source": [
    "# Save the sample annotation\n",
    "df_sample.to_csv('./sample_annotation.csv')"
   ]
  },
  {
   "cell_type": "markdown",
   "metadata": {},
   "source": [
    "## Import training requirements"
   ]
  },
  {
   "cell_type": "code",
   "execution_count": 2,
   "metadata": {},
   "outputs": [],
   "source": [
    "import torch\n",
    "import sys\n",
    "import os\n",
    "import csv\n",
    "from pathlib import Path\n",
    "# Add your path of library\n",
    "sys.path.append('../DINO_train')\n",
    "import training"
   ]
  },
  {
   "cell_type": "markdown",
   "metadata": {},
   "source": [
    "## Load Training Data"
   ]
  },
  {
   "cell_type": "code",
   "execution_count": 3,
   "metadata": {},
   "outputs": [
    {
     "name": "stderr",
     "output_type": "stream",
     "text": [
      "Filtering bad urls: 0it [00:00, ?it/s]"
     ]
    },
    {
     "name": "stderr",
     "output_type": "stream",
     "text": [
      "Filtering bad urls: 313it [00:00, 494.67it/s]"
     ]
    },
    {
     "name": "stdout",
     "output_type": "stream",
     "text": [
      "Bad rows: 0\n"
     ]
    },
    {
     "name": "stderr",
     "output_type": "stream",
     "text": [
      "\n"
     ]
    }
   ],
   "source": [
    "training.DATA_FILE = Path('./sample_annotation.csv')\n",
    "training.IMG_DIR = Path('./sample_images')\n",
    "train_data, test_data = training.load_data(training.DATA_FILE, training.IMG_DIR)"
   ]
  },
  {
   "cell_type": "markdown",
   "metadata": {},
   "source": [
    "## Model setup\n"
   ]
  },
  {
   "cell_type": "code",
   "execution_count": 4,
   "metadata": {},
   "outputs": [],
   "source": [
    "training.DEVICE='cuda' if torch.cuda.is_available() else 'cpu'\n",
    "model = training.get_dino_model(dino_name='facebook/dinov2-base').to(training.DEVICE)\n",
    "training.BATCH_SIZE = 4\n",
    "\n",
    "# Location to save checkpoints and results\n",
    "training.CLF_SAVE_DIR = Path('./trained_clfs')\n",
    "os.makedirs(training.CLF_SAVE_DIR, exist_ok=True)"
   ]
  },
  {
   "cell_type": "markdown",
   "metadata": {},
   "source": [
    "## Start training"
   ]
  },
  {
   "cell_type": "code",
   "execution_count": 6,
   "metadata": {},
   "outputs": [
    {
     "name": "stdout",
     "output_type": "stream",
     "text": [
      "Created base dataset with 250 samples\n",
      "Created base dataset with 63 samples\n"
     ]
    }
   ],
   "source": [
    "# Create dataloader\n",
    "tr_sig_dloader, test_dl = training.prepare_data_loaders(train_data, test_data)"
   ]
  },
  {
   "cell_type": "code",
   "execution_count": 7,
   "metadata": {},
   "outputs": [
    {
     "name": "stderr",
     "output_type": "stream",
     "text": [
      "Extracting features: 100%|██████████| 63/63 [00:06<00:00,  9.71it/s]\n",
      "Extracting features: 100%|██████████| 16/16 [00:02<00:00,  7.97it/s]\n"
     ]
    }
   ],
   "source": [
    "# Extract visual features from model\n",
    "tr_features, tr_labels, test_features, test_labels = training.extract_features(tr_sig_dloader, test_dl, model)"
   ]
  },
  {
   "cell_type": "code",
   "execution_count": 8,
   "metadata": {},
   "outputs": [
    {
     "name": "stdout",
     "output_type": "stream",
     "text": [
      "Training and evaluating svm...\n",
      "Saved svm classifier to trained_clfs/trained_svm_classifier.pkl\n",
      "svm: Acc - 1.0000, Hacc - 1.0000, NHacc - 1.0000\n",
      "\n",
      "          Hybrid-Recall: 1.0\n",
      "          Hybrid-Precision: 0.4\n",
      "          f1-Score: 0.5714285714285714\n",
      "          ROC AUC: 0.9754098360655737\n",
      "          Accuracy: 0.9523809523809523\n",
      "          \n",
      "Training and evaluating sgd...\n",
      "Saved sgd classifier to trained_clfs/trained_sgd_classifier.pkl\n",
      "sgd: Acc - 0.9800, Hacc - 0.0000, NHacc - 1.0000\n",
      "\n",
      "          Hybrid-Recall: 1.0\n",
      "          Hybrid-Precision: 0.4\n",
      "          f1-Score: 0.5714285714285714\n",
      "          ROC AUC: 0.9754098360655737\n",
      "          Accuracy: 0.9523809523809523\n",
      "          \n",
      "Training and evaluating knn...\n",
      "Saved knn classifier to trained_clfs/trained_knn_classifier.pkl\n",
      "knn: Acc - 1.0000, Hacc - 1.0000, NHacc - 1.0000\n",
      "\n",
      "          Hybrid-Recall: 1.0\n",
      "          Hybrid-Precision: 0.4\n",
      "          f1-Score: 0.5714285714285714\n",
      "          ROC AUC: 0.9754098360655737\n",
      "          Accuracy: 0.9523809523809523\n",
      "          \n"
     ]
    }
   ],
   "source": [
    "# Train classifier with visual features\n",
    "csv_output, score_output = training.train_and_evaluate(tr_features, tr_labels, test_features, test_labels)"
   ]
  },
  {
   "cell_type": "code",
   "execution_count": 9,
   "metadata": {},
   "outputs": [],
   "source": [
    "# Save evaluation results\n",
    "csv_filename = training.CLF_SAVE_DIR / \"classifier_evaluation_results.csv\"\n",
    "with open(csv_filename, mode='w', newline='') as file:\n",
    "    writer = csv.writer(file)\n",
    "    writer.writerow([\"Configuration\", \"AUC\", \"Precision\", \"Recall\", \"F1-score\"])\n",
    "    writer.writerows(csv_output)\n",
    "\n",
    "# Save individual scores\n",
    "scores_filename = training.CLF_SAVE_DIR / \"classifier_scores.csv\"\n",
    "with open(scores_filename, mode='w', newline='') as score_file:\n",
    "    score_writer = csv.writer(score_file)\n",
    "    score_writer.writerow([\"Index\", \"Score\", \"True Label\"])\n",
    "    score_writer.writerows(score_output)"
   ]
  }
 ],
 "metadata": {
  "kernelspec": {
   "display_name": "Python 3 (ipykernel)",
   "language": "python",
   "name": "python3"
  },
  "language_info": {
   "codemirror_mode": {
    "name": "ipython",
    "version": 3
   },
   "file_extension": ".py",
   "mimetype": "text/x-python",
   "name": "python",
   "nbconvert_exporter": "python",
   "pygments_lexer": "ipython3",
   "version": "3.11.9"
  }
 },
 "nbformat": 4,
 "nbformat_minor": 4
}
