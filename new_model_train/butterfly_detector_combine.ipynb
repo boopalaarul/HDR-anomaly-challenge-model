{
 "cells": [
  {
   "cell_type": "markdown",
   "id": "715a74ad-b1fb-4d0d-9e7a-a54818637949",
   "metadata": {},
   "source": [
    "### Combined model (Two parts)\n",
    "    - Classify the data so that it represents probabilities for each of the 14 class\n",
    "    - Classify the input we get above to one of two categories (hybrid vs non hybrid)"
   ]
  },
  {
   "cell_type": "code",
   "execution_count": 1,
   "id": "b05bc632-4ff1-43b6-a34c-3b508305e695",
   "metadata": {},
   "outputs": [],
   "source": [
    "import numpy as np\n",
    "\n",
    "import torch\n",
    "import torch.nn as nn\n",
    "import torch.nn.functional as F\n",
    "import torch.optim as optim\n",
    "import matplotlib.pyplot as plt\n",
    "\n",
    "import torchvision\n",
    "import torchvision.transforms as transforms"
   ]
  },
  {
   "cell_type": "code",
   "execution_count": 3,
   "id": "3f3099d3-21ec-4f3e-a910-b7e4cdbe4388",
   "metadata": {},
   "outputs": [],
   "source": [
    "# downsize image is size 224 x 224\n",
    "class ButterflyNet(nn.Module):\n",
    "    def __init__(self):\n",
    "        super().__init__()\n",
    "        self.conv1 = nn.Conv2d(3, 12, 5) # 12 kernels and 220 x 220\n",
    "        self.pool = nn.MaxPool2d(2, 2) # 12 kernels, 110 x 110\n",
    "        self.conv2 = nn.Conv2d(12, 24, 5) # 24 kernels, 106 x 106\n",
    "        # use pool again so final is: 24 kernels, 53 x 53 \n",
    "     \n",
    "        self.fc1 = nn.Linear(24 * 53 * 53, 1200)\n",
    "        self.fc2 = nn.Linear(1200, 600)\n",
    "        self.fc3 = nn.Linear(600, 300)\n",
    "        self.fc4 = nn.Linear(300, 14)\n",
    "    def forward(self, x):\n",
    "        x = self.pool(self.conv1(x))\n",
    "        x = self.pool(self.con2(x))\n",
    "\n",
    "        x = torch.flatten(x, 1) # so now x is a one dimensional tensor\n",
    "        x = F.relu(self.fc1(x))\n",
    "        x = F.relu(self.fc2(x))\n",
    "        x = F.relu(self.fc3(x))\n",
    "        x = self.fc4(x)\n",
    "        return x\n",
    "        \n",
    "    "
   ]
  },
  {
   "cell_type": "code",
   "execution_count": null,
   "id": "496e4b55-12ab-4d59-bb4a-8a99a6a33196",
   "metadata": {},
   "outputs": [],
   "source": []
  },
  {
   "cell_type": "code",
   "execution_count": null,
   "id": "af0d8a57-b020-4aa3-a1e6-8f7e0908ecbf",
   "metadata": {},
   "outputs": [],
   "source": []
  },
  {
   "cell_type": "code",
   "execution_count": null,
   "id": "2210e398-2850-4254-a775-1ac34fc5c31e",
   "metadata": {},
   "outputs": [],
   "source": []
  }
 ],
 "metadata": {
  "kernelspec": {
   "display_name": "Python 3 (ipykernel)",
   "language": "python",
   "name": "python3"
  },
  "language_info": {
   "codemirror_mode": {
    "name": "ipython",
    "version": 3
   },
   "file_extension": ".py",
   "mimetype": "text/x-python",
   "name": "python",
   "nbconvert_exporter": "python",
   "pygments_lexer": "ipython3",
   "version": "3.11.9"
  }
 },
 "nbformat": 4,
 "nbformat_minor": 5
}
