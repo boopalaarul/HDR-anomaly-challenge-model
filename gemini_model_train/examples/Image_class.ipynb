{
 "cells": [
  {
   "cell_type": "code",
   "execution_count": 1,
   "id": "cec1d85c-0c18-437b-975b-e202c9ad524b",
   "metadata": {},
   "outputs": [],
   "source": [
    "import numpy as np\n",
    "from PIL import Image\n",
    "\n",
    "import torch\n",
    "import torch.nn as nn\n",
    "import torch.nn.functional as F\n",
    "import torch.optim as optim\n",
    "import matplotlib.pyplot as plt\n",
    "\n",
    "import torchvision\n",
    "import torchvision.transforms as transforms"
   ]
  },
  {
   "cell_type": "code",
   "execution_count": 2,
   "id": "21eb8f8a-5096-460a-9509-061af0ec7b62",
   "metadata": {},
   "outputs": [],
   "source": [
    "transform = transforms.Compose([\n",
    "    transforms.ToTensor(),\n",
    "    transforms.Normalize((0.5, 0.5, 0.5), (0.5, 0.5, 0.5))\n",
    "])"
   ]
  },
  {
   "cell_type": "code",
   "execution_count": 3,
   "id": "607f6849-3d11-4d8b-b0db-49f6618b377b",
   "metadata": {},
   "outputs": [
    {
     "name": "stdout",
     "output_type": "stream",
     "text": [
      "Files already downloaded and verified\n"
     ]
    }
   ],
   "source": [
    "train_data = torchvision.datasets.CIFAR10(root = \"./data\", train = True, transform = transform, download = True)"
   ]
  },
  {
   "cell_type": "code",
   "execution_count": 11,
   "id": "5a887191-abae-4cff-9333-3a5851b7ce64",
   "metadata": {
    "scrolled": true
   },
   "outputs": [
    {
     "name": "stdout",
     "output_type": "stream",
     "text": [
      "Files already downloaded and verified\n"
     ]
    }
   ],
   "source": [
    "test_data = torchvision.datasets.CIFAR10(root = \"./data\", train = False, transform = transform, download = True)"
   ]
  },
  {
   "cell_type": "code",
   "execution_count": 13,
   "id": "a4e447da-4a1a-42e5-a8c8-e45055a9d774",
   "metadata": {},
   "outputs": [],
   "source": [
    "train_loader = torch.utils.data.DataLoader(train_data, batch_size = 32, shuffle = True, num_workers = 2)\n",
    "test_loader = torch.utils.data.DataLoader(test_data, batch_size = 32, shuffle = True, num_workers = 2)"
   ]
  },
  {
   "cell_type": "code",
   "execution_count": 5,
   "id": "f941ef6b-4dce-4f93-aa05-bf4d23ae51ef",
   "metadata": {},
   "outputs": [
    {
     "data": {
      "text/plain": [
       "<matplotlib.image.AxesImage at 0x7f66ea010d50>"
      ]
     },
     "execution_count": 5,
     "metadata": {},
     "output_type": "execute_result"
    },
    {
     "data": {
      "image/png": "[encoded data removed]",
      "text/plain": [
       "<Figure size 640x480 with 1 Axes>"
      ]
     },
     "metadata": {},
     "output_type": "display_data"
    }
   ],
   "source": [
    "image, label = train_data[2]\n",
    "\n",
    "# Undo normalization\n",
    "image_org = image*0.5 + 0.5\n",
    "plt.imshow(image_org.permute(1, 2, 0).numpy())\n",
    "# plt.imshow(image.numpy().squeeze())\n"
   ]
  },
  {
   "cell_type": "code",
   "execution_count": 6,
   "id": "6b4e4ff4-3be7-43af-95b5-03097c75c89c",
   "metadata": {},
   "outputs": [],
   "source": [
    "class_names = [\"plane\", \"car\", \"bird\", \"cat\", \"deer\", \"dog\", \"frog\", \"horse\", \"ship\", \"truck\"]"
   ]
  },
  {
   "cell_type": "code",
   "execution_count": 8,
   "id": "4e5cc835-711e-4d75-9a50-5645d2df98d8",
   "metadata": {},
   "outputs": [],
   "source": [
    "class NeuralNet(nn.Module):\n",
    "    def __init__(self):\n",
    "        super().__init__()\n",
    "\n",
    "        # input channel, output channel, kernel\n",
    "        self.conv1 = nn.Conv2d(3, 12, 5)  # new shape: 12 channels with (32-5+1) = 28 x 28 size image\n",
    "        self.pool = nn.MaxPool2d(2, 2) # divide shape by 2; shape is 12 (channels), 14 x 14\n",
    "        self.conv2 = nn.Conv2d(12, 24, 5) # new shape: 24 channels, (14-5+1) = 10 x 10 size image\n",
    "        # use pool again to divde shape by 2 -> 24 channels, 5 x 5 size image _> flatter to (24 * 5 * 5)\n",
    "        self.fc1 = nn.Linear(24 * 5* 5, 120)\n",
    "        self.fc2 = nn.Linear(120, 84)\n",
    "        self.fc3 = nn.Linear(84, 10)\n",
    "    def forward(self, x):\n",
    "        x = self.pool(F.relu(self.conv1(x)))\n",
    "        x = self.pool(F.relu(self.conv2(x)))\n",
    "        x = torch.flatten(x, 1)\n",
    "        x = F.relu(self.fc1(x))\n",
    "        x = F.relu(self.fc2(x))\n",
    "        x = self.fc3(x)\n",
    "        return x\n",
    "    \n",
    "        "
   ]
  },
  {
   "cell_type": "code",
   "execution_count": 15,
   "id": "60035dc4-9e17-429c-8348-5efdec18323e",
   "metadata": {},
   "outputs": [],
   "source": [
    "net = NeuralNet()\n",
    "loss_function = nn.CrossEntropyLoss()\n",
    "optimizer = optim.SGD(net.parameters(), lr = 0.001, momentum = 0.9) \n",
    "# optimizers handle parameter update after gradients are calculated through backpropagation"
   ]
  },
  {
   "cell_type": "code",
   "execution_count": 18,
   "id": "b38e8525-64e3-4e25-b736-a10bebaa3c1b",
   "metadata": {},
   "outputs": [],
   "source": [
    "for epoch in range(30):\n",
    "    running_loss = 0.0\n",
    "    for i, data in enumerate(train_loader):\n",
    "        inputs, labels = data\n",
    "        optimizer.zero_grad() # clears old gradients\n",
    "\n",
    "        outputs = net(inputs)\n",
    "        loss = loss_function(outputs, labels)\n",
    "        loss.backward()\n",
    "        optimizer.step()\n",
    "        running_loss += loss.item()"
   ]
  },
  {
   "cell_type": "code",
   "execution_count": 19,
   "id": "580392c0-e5b9-45ef-b96e-0b6ed6836dd9",
   "metadata": {},
   "outputs": [],
   "source": [
    "torch.save(net.state_dict(), 'trained_net.pth')"
   ]
  },
  {
   "cell_type": "code",
   "execution_count": null,
   "id": "4a76a4a0-8756-40c8-9d09-b64bce625c6c",
   "metadata": {},
   "outputs": [],
   "source": []
  },
  {
   "cell_type": "code",
   "execution_count": null,
   "id": "4595a5e9-5c4a-4998-ae57-44b267beb355",
   "metadata": {},
   "outputs": [],
   "source": []
  },
  {
   "cell_type": "code",
   "execution_count": null,
   "id": "6a3a24ad-2c54-4172-9424-f994e6708a91",
   "metadata": {},
   "outputs": [],
   "source": []
  },
  {
   "cell_type": "code",
   "execution_count": null,
   "id": "3a4fd534-2ce7-4853-ad82-b98f94815419",
   "metadata": {},
   "outputs": [],
   "source": []
  },
  {
   "cell_type": "code",
   "execution_count": null,
   "id": "c90bd4d1-10a8-44ce-be67-9bff27d6e070",
   "metadata": {},
   "outputs": [],
   "source": []
  },
  {
   "cell_type": "code",
   "execution_count": null,
   "id": "9f84e888-606a-4093-975d-279dfd8023bd",
   "metadata": {},
   "outputs": [],
   "source": []
  },
  {
   "cell_type": "code",
   "execution_count": null,
   "id": "5a3b037e-19dc-46a2-870a-9bb67f9de061",
   "metadata": {},
   "outputs": [],
   "source": []
  },
  {
   "cell_type": "code",
   "execution_count": null,
   "id": "8cedf1b8-dfc7-490a-83de-b89280359fcc",
   "metadata": {},
   "outputs": [],
   "source": []
  },
  {
   "cell_type": "code",
   "execution_count": null,
   "id": "d6cd666d-4f33-4e80-b0b5-1d3016b4ab87",
   "metadata": {},
   "outputs": [],
   "source": []
  },
  {
   "cell_type": "code",
   "execution_count": null,
   "id": "d73bd1b8-6963-4ce7-b5f5-4e6bf1e0e60f",
   "metadata": {},
   "outputs": [],
   "source": []
  }
 ],
 "metadata": {
  "kernelspec": {
   "display_name": "Python 3 (ipykernel)",
   "language": "python",
   "name": "python3"
  },
  "language_info": {
   "codemirror_mode": {
    "name": "ipython",
    "version": 3
   },
   "file_extension": ".py",
   "mimetype": "text/x-python",
   "name": "python",
   "nbconvert_exporter": "python",
   "pygments_lexer": "ipython3",
   "version": "3.11.9"
  }
 },
 "nbformat": 4,
 "nbformat_minor": 5
}
